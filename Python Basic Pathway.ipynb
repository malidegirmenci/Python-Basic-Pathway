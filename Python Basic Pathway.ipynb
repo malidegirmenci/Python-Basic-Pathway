{
 "cells": [
  {
   "cell_type": "markdown",
   "id": "2a8e9eea",
   "metadata": {},
   "source": [
    "# Python Basic 101"
   ]
  },
  {
   "cell_type": "markdown",
   "id": "2cbc2cf9",
   "metadata": {},
   "source": [
    "##  Basic Data Types (Temel Veri Yapıları)"
   ]
  },
  {
   "cell_type": "markdown",
   "id": "00f8c0ec",
   "metadata": {},
   "source": [
    "- Programlar veri objelerini (data object) manipüle ederek istenileni yapar.\n",
    "\n",
    "- Programa istenilenin yaptırılması için girdileri ve programın içerisinde kullanılacak verilerin ifade edilmesi gerekir.\n",
    "\n",
    "- Veri Objeleri ikiye ayrılır:\n",
    "\n",
    "1) **Scalar**: Daha alt parçalara bölünemeyen yapılar (sayılar gibi)\n",
    "2) **Non-scalar**: Daha alt parçalara bölünebilen, içsel yapısına erişilebilen (sayıları ard arda koyulan bir yapı buna bir örnek olabilir.)\n",
    "\n",
    "- Her objenin bir tipi vardır. Program tiplere göre onlarla nasıl işlem  yapabileceğine karar verir. Mesela iki tane sayıyı toplamak, iki tane yazıyı birleştirmek..."
   ]
  },
  {
   "cell_type": "markdown",
   "id": "b2719771",
   "metadata": {},
   "source": [
    "### a. Integers (Tam Sayılar)"
   ]
  },
  {
   "cell_type": "code",
   "execution_count": 1,
   "id": "6ec4c88c",
   "metadata": {
    "scrolled": false
   },
   "outputs": [
    {
     "data": {
      "text/plain": [
       "2"
      ]
     },
     "execution_count": 1,
     "metadata": {},
     "output_type": "execute_result"
    }
   ],
   "source": [
    "2"
   ]
  },
  {
   "cell_type": "code",
   "execution_count": 2,
   "id": "df38f9a0",
   "metadata": {},
   "outputs": [
    {
     "data": {
      "text/plain": [
       "3"
      ]
     },
     "execution_count": 2,
     "metadata": {},
     "output_type": "execute_result"
    }
   ],
   "source": [
    "3"
   ]
  },
  {
   "cell_type": "markdown",
   "id": "f74f1379",
   "metadata": {},
   "source": [
    "### b. Floats (Kesirli Sayılar)"
   ]
  },
  {
   "cell_type": "code",
   "execution_count": 3,
   "id": "6f38491a",
   "metadata": {},
   "outputs": [
    {
     "data": {
      "text/plain": [
       "2.3"
      ]
     },
     "execution_count": 3,
     "metadata": {},
     "output_type": "execute_result"
    }
   ],
   "source": [
    "2.3"
   ]
  },
  {
   "cell_type": "code",
   "execution_count": 4,
   "id": "4100a2f3",
   "metadata": {},
   "outputs": [
    {
     "data": {
      "text/plain": [
       "2.5"
      ]
     },
     "execution_count": 4,
     "metadata": {},
     "output_type": "execute_result"
    }
   ],
   "source": [
    "2.5"
   ]
  },
  {
   "cell_type": "code",
   "execution_count": 125,
   "id": "13537a30",
   "metadata": {},
   "outputs": [
    {
     "data": {
      "text/plain": [
       "2.0"
      ]
     },
     "execution_count": 125,
     "metadata": {},
     "output_type": "execute_result"
    }
   ],
   "source": [
    "2.0"
   ]
  },
  {
   "cell_type": "markdown",
   "id": "fdeb28d3",
   "metadata": {},
   "source": [
    "### c. Boolean"
   ]
  },
  {
   "cell_type": "markdown",
   "id": "163a4178",
   "metadata": {},
   "source": [
    "- Bir ifadenin doğru(**True**) ya da yanlış (**False**) olduğunu belirten bir yapıdır."
   ]
  },
  {
   "cell_type": "code",
   "execution_count": 6,
   "id": "1c1db3da",
   "metadata": {},
   "outputs": [
    {
     "data": {
      "text/plain": [
       "True"
      ]
     },
     "execution_count": 6,
     "metadata": {},
     "output_type": "execute_result"
    }
   ],
   "source": [
    "True"
   ]
  },
  {
   "cell_type": "code",
   "execution_count": 7,
   "id": "7c9d93b6",
   "metadata": {},
   "outputs": [
    {
     "data": {
      "text/plain": [
       "False"
      ]
     },
     "execution_count": 7,
     "metadata": {},
     "output_type": "execute_result"
    }
   ],
   "source": [
    "False"
   ]
  },
  {
   "cell_type": "code",
   "execution_count": 8,
   "id": "43fb49c4",
   "metadata": {},
   "outputs": [
    {
     "data": {
      "text/plain": [
       "False"
      ]
     },
     "execution_count": 8,
     "metadata": {},
     "output_type": "execute_result"
    }
   ],
   "source": [
    "2 > 3"
   ]
  },
  {
   "cell_type": "code",
   "execution_count": 9,
   "id": "72dde005",
   "metadata": {},
   "outputs": [
    {
     "data": {
      "text/plain": [
       "True"
      ]
     },
     "execution_count": 9,
     "metadata": {},
     "output_type": "execute_result"
    }
   ],
   "source": [
    "2 < 3"
   ]
  },
  {
   "cell_type": "markdown",
   "id": "2357fca9",
   "metadata": {},
   "source": [
    "**type() fonksiyonu**"
   ]
  },
  {
   "cell_type": "markdown",
   "id": "af0e2404",
   "metadata": {},
   "source": [
    "- Objelerin tiplerine ulaşmak için **type()** fonksiyonu kullanılır."
   ]
  },
  {
   "cell_type": "code",
   "execution_count": 10,
   "id": "d9c316bb",
   "metadata": {},
   "outputs": [
    {
     "data": {
      "text/plain": [
       "int"
      ]
     },
     "execution_count": 10,
     "metadata": {},
     "output_type": "execute_result"
    }
   ],
   "source": [
    "type(1)"
   ]
  },
  {
   "cell_type": "code",
   "execution_count": 11,
   "id": "57398151",
   "metadata": {},
   "outputs": [
    {
     "data": {
      "text/plain": [
       "float"
      ]
     },
     "execution_count": 11,
     "metadata": {},
     "output_type": "execute_result"
    }
   ],
   "source": [
    "type(1.5)"
   ]
  },
  {
   "cell_type": "code",
   "execution_count": 12,
   "id": "1fe23e13",
   "metadata": {},
   "outputs": [
    {
     "data": {
      "text/plain": [
       "bool"
      ]
     },
     "execution_count": 12,
     "metadata": {},
     "output_type": "execute_result"
    }
   ],
   "source": [
    "type(True)"
   ]
  },
  {
   "cell_type": "markdown",
   "id": "f21f2bb1",
   "metadata": {},
   "source": [
    "## Type Casting (Tip Dönüştürmesi)"
   ]
  },
  {
   "cell_type": "markdown",
   "id": "2a867391",
   "metadata": {},
   "source": [
    "- Data objelerinin tipinin değiştirilmesine **casting** denir."
   ]
  },
  {
   "cell_type": "code",
   "execution_count": 13,
   "id": "c06eae67",
   "metadata": {},
   "outputs": [
    {
     "data": {
      "text/plain": [
       "2"
      ]
     },
     "execution_count": 13,
     "metadata": {},
     "output_type": "execute_result"
    }
   ],
   "source": [
    "int(2.4)"
   ]
  },
  {
   "cell_type": "code",
   "execution_count": 14,
   "id": "ceeaef2d",
   "metadata": {},
   "outputs": [
    {
     "data": {
      "text/plain": [
       "2"
      ]
     },
     "execution_count": 14,
     "metadata": {},
     "output_type": "execute_result"
    }
   ],
   "source": [
    "# Sayıları yuvarlamaz, sadece tam olan kısmını alır.\n",
    "int(2.9)"
   ]
  },
  {
   "cell_type": "code",
   "execution_count": 15,
   "id": "d57e7765",
   "metadata": {},
   "outputs": [
    {
     "data": {
      "text/plain": [
       "4.0"
      ]
     },
     "execution_count": 15,
     "metadata": {},
     "output_type": "execute_result"
    }
   ],
   "source": [
    "float(4)"
   ]
  },
  {
   "cell_type": "markdown",
   "id": "ac2b5948",
   "metadata": {},
   "source": [
    "## Variables (Değişkenler)"
   ]
  },
  {
   "cell_type": "markdown",
   "id": "c661189e",
   "metadata": {},
   "source": [
    "- Bazı değerleri bilgisayarın hafızasında tutmak ve daha sonra bunlara verilen adlarla erişmek istenildiğinde **Variables** yani **Değişkenler** kullanılır."
   ]
  },
  {
   "cell_type": "markdown",
   "id": "77ab6d83",
   "metadata": {},
   "source": [
    "- Önceliklie değişkene bir isim verilmelidir. Bu isim penguen, uzunluk, maaş gibi isimler olabilir. (Burada dikkat edilmesi gereken yer verilecek ismin daha önceden python'ın default olarak kullanmadığı isimler olmalıdır. Mesela **if, continue, for** gibi keyword'ler daha önceden ayrıldığı için bunları variable olarak kullanamayız."
   ]
  },
  {
   "cell_type": "markdown",
   "id": "2e6bf19b",
   "metadata": {},
   "source": [
    "- Python'ın daha önceden kendisine ayırdığı isimler (**reserved words**)\n",
    "|          |         |        |        |       |\n",
    "|:--------:|:--------:|:--------:|:--------:|:--------:|\n",
    "| and      | del     | from   | not    | while |\n",
    "| as       | elif    | global | or     | with  |\n",
    "| assert   | else    | if     | pass   | yield |\n",
    "| break    | except  | import | print  | True  |\n",
    "| class    | exec    | in     | raise  | False |\n",
    "| continue | finally | is     | return |       |\n"
   ]
  },
  {
   "cell_type": "markdown",
   "id": "22e86410",
   "metadata": {},
   "source": [
    "- Değişkene isim verildikten sonra bu isme **=** ile değer ataması yapılır. Bu durumdan sonra Python değişken ismi yazıldığında aslında hafızadan değişkenin değerini çağıracaktır."
   ]
  },
  {
   "cell_type": "code",
   "execution_count": 18,
   "id": "85111676",
   "metadata": {},
   "outputs": [],
   "source": [
    "a = 2"
   ]
  },
  {
   "cell_type": "code",
   "execution_count": 19,
   "id": "eac641ad",
   "metadata": {},
   "outputs": [
    {
     "data": {
      "text/plain": [
       "2"
      ]
     },
     "execution_count": 19,
     "metadata": {},
     "output_type": "execute_result"
    }
   ],
   "source": [
    "a"
   ]
  },
  {
   "cell_type": "code",
   "execution_count": 22,
   "id": "28b0da2e",
   "metadata": {},
   "outputs": [],
   "source": [
    "a = 3 + 2"
   ]
  },
  {
   "cell_type": "code",
   "execution_count": 23,
   "id": "be098bcc",
   "metadata": {},
   "outputs": [
    {
     "data": {
      "text/plain": [
       "5"
      ]
     },
     "execution_count": 23,
     "metadata": {},
     "output_type": "execute_result"
    }
   ],
   "source": [
    "a"
   ]
  },
  {
   "cell_type": "code",
   "execution_count": 24,
   "id": "9e5c95c0",
   "metadata": {},
   "outputs": [],
   "source": [
    "a = a + 5"
   ]
  },
  {
   "cell_type": "code",
   "execution_count": 25,
   "id": "9a688136",
   "metadata": {},
   "outputs": [
    {
     "data": {
      "text/plain": [
       "10"
      ]
     },
     "execution_count": 25,
     "metadata": {},
     "output_type": "execute_result"
    }
   ],
   "source": [
    "a "
   ]
  },
  {
   "cell_type": "markdown",
   "id": "d8092fc5",
   "metadata": {},
   "source": [
    "- Yukarıdaki yapılan işlemler sağdaki değeri soldaki değişkene atamadır. Buna **Variable Assigment** denir. "
   ]
  },
  {
   "cell_type": "code",
   "execution_count": 34,
   "id": "7380537a",
   "metadata": {},
   "outputs": [],
   "source": [
    "limon_fiyat = 10"
   ]
  },
  {
   "cell_type": "code",
   "execution_count": 35,
   "id": "0c47d2e1",
   "metadata": {},
   "outputs": [],
   "source": [
    "s1 = limon_fiyat * 100"
   ]
  },
  {
   "cell_type": "code",
   "execution_count": 36,
   "id": "bf4899a1",
   "metadata": {},
   "outputs": [],
   "source": [
    "s2 = limon_fiyat * 70"
   ]
  },
  {
   "cell_type": "code",
   "execution_count": 37,
   "id": "363b8496",
   "metadata": {},
   "outputs": [],
   "source": [
    "s3 = limon_fiyat * 10"
   ]
  },
  {
   "cell_type": "code",
   "execution_count": 38,
   "id": "1a885c5f",
   "metadata": {},
   "outputs": [
    {
     "name": "stdout",
     "output_type": "stream",
     "text": [
      "1000\n"
     ]
    }
   ],
   "source": [
    "print(s1)"
   ]
  },
  {
   "cell_type": "code",
   "execution_count": 39,
   "id": "3386cf76",
   "metadata": {},
   "outputs": [
    {
     "name": "stdout",
     "output_type": "stream",
     "text": [
      "700\n"
     ]
    }
   ],
   "source": [
    "print(s2)"
   ]
  },
  {
   "cell_type": "code",
   "execution_count": 40,
   "id": "e70218b7",
   "metadata": {},
   "outputs": [
    {
     "name": "stdout",
     "output_type": "stream",
     "text": [
      "100\n"
     ]
    }
   ],
   "source": [
    "print(s3)"
   ]
  },
  {
   "cell_type": "markdown",
   "id": "e4263f33",
   "metadata": {},
   "source": [
    "Limon fiyatları güncellendiğinde tek tek tüm satırları değiştirmek yerine değişken tanımında bunu tek seferde değiştirmek daha işlevsel ve pratik kullanım sağlar."
   ]
  },
  {
   "cell_type": "code",
   "execution_count": 41,
   "id": "bbaae3ba",
   "metadata": {},
   "outputs": [
    {
     "data": {
      "text/plain": [
       "10.9"
      ]
     },
     "execution_count": 41,
     "metadata": {},
     "output_type": "execute_result"
    }
   ],
   "source": [
    "a = 7.9 + 3\n",
    "a"
   ]
  },
  {
   "cell_type": "markdown",
   "id": "da06acfe",
   "metadata": {},
   "source": [
    "## Expressions (İfadeler)"
   ]
  },
  {
   "cell_type": "markdown",
   "id": "dcb5070c",
   "metadata": {},
   "source": [
    "- Objeler (**Object**) ve operatörlerin (**operator**) birleşimi bir ifade (**expressions**) oluşturur.\n",
    "- Expressions bir değer(**value**) alır ve bu değerlerin bir tipi vardır.\n",
    "- **Expressions : object operator object ** şeklinde oluşturulur.\n",
    "- Expressions tiplerini operatörün uygulandığı objenin tipi belirler."
   ]
  },
  {
   "cell_type": "markdown",
   "id": "6fbe217b",
   "metadata": {},
   "source": [
    "## Operators (Operatörler)\n",
    "Toplama, çıkarma ve çarpmada durumlar aynı olurken bölme de sonuç tam olarak çıksa da float olarak tip belirlenir."
   ]
  },
  {
   "cell_type": "code",
   "execution_count": 1,
   "id": "39bd451a",
   "metadata": {},
   "outputs": [
    {
     "data": {
      "text/plain": [
       "4"
      ]
     },
     "execution_count": 1,
     "metadata": {},
     "output_type": "execute_result"
    }
   ],
   "source": [
    "# iki tane integer ifadenin toplamı integer tipinde olur\n",
    "2 + 2"
   ]
  },
  {
   "cell_type": "code",
   "execution_count": 2,
   "id": "8d224537",
   "metadata": {},
   "outputs": [
    {
     "data": {
      "text/plain": [
       "int"
      ]
     },
     "execution_count": 2,
     "metadata": {},
     "output_type": "execute_result"
    }
   ],
   "source": [
    "type(2 + 2)"
   ]
  },
  {
   "cell_type": "code",
   "execution_count": 4,
   "id": "26acbc83",
   "metadata": {},
   "outputs": [
    {
     "data": {
      "text/plain": [
       "5.6"
      ]
     },
     "execution_count": 4,
     "metadata": {},
     "output_type": "execute_result"
    }
   ],
   "source": [
    "# iki tane float ifadenin toplamı da float tipinde olur\n",
    "2.1 + 3.5"
   ]
  },
  {
   "cell_type": "code",
   "execution_count": 5,
   "id": "286808a3",
   "metadata": {},
   "outputs": [
    {
     "data": {
      "text/plain": [
       "float"
      ]
     },
     "execution_count": 5,
     "metadata": {},
     "output_type": "execute_result"
    }
   ],
   "source": [
    "type(2.1 + 3.5)"
   ]
  },
  {
   "cell_type": "code",
   "execution_count": 8,
   "id": "e6470a9d",
   "metadata": {},
   "outputs": [
    {
     "data": {
      "text/plain": [
       "6.2"
      ]
     },
     "execution_count": 8,
     "metadata": {},
     "output_type": "execute_result"
    }
   ],
   "source": [
    "# eğer objelerin biri bile float olursa expression tipi float olur\n",
    "2 + 4.2"
   ]
  },
  {
   "cell_type": "code",
   "execution_count": 7,
   "id": "1ce51f44",
   "metadata": {},
   "outputs": [
    {
     "data": {
      "text/plain": [
       "float"
      ]
     },
     "execution_count": 7,
     "metadata": {},
     "output_type": "execute_result"
    }
   ],
   "source": [
    "type(2 + 4.2)"
   ]
  },
  {
   "cell_type": "markdown",
   "id": "c44ec3c4",
   "metadata": {},
   "source": [
    "### / Division Operator (Bölme Operatörü)\n",
    "Sonuç her zaman float olarak çıkacaktır"
   ]
  },
  {
   "cell_type": "code",
   "execution_count": 9,
   "id": "1e7d4149",
   "metadata": {},
   "outputs": [
    {
     "data": {
      "text/plain": [
       "2.0"
      ]
     },
     "execution_count": 9,
     "metadata": {},
     "output_type": "execute_result"
    }
   ],
   "source": [
    "4 / 2"
   ]
  },
  {
   "cell_type": "code",
   "execution_count": 10,
   "id": "b732c36b",
   "metadata": {},
   "outputs": [
    {
     "data": {
      "text/plain": [
       "float"
      ]
     },
     "execution_count": 10,
     "metadata": {},
     "output_type": "execute_result"
    }
   ],
   "source": [
    "type(4/2)"
   ]
  },
  {
   "cell_type": "code",
   "execution_count": 11,
   "id": "859b0fd5",
   "metadata": {},
   "outputs": [
    {
     "data": {
      "text/plain": [
       "2.1"
      ]
     },
     "execution_count": 11,
     "metadata": {},
     "output_type": "execute_result"
    }
   ],
   "source": [
    "4.2 / 2"
   ]
  },
  {
   "cell_type": "code",
   "execution_count": 12,
   "id": "05cb2ec5",
   "metadata": {},
   "outputs": [
    {
     "data": {
      "text/plain": [
       "float"
      ]
     },
     "execution_count": 12,
     "metadata": {},
     "output_type": "execute_result"
    }
   ],
   "source": [
    "type(4.2 / 2)"
   ]
  },
  {
   "cell_type": "markdown",
   "id": "8fdae3cd",
   "metadata": {},
   "source": [
    "### // Int Division Operator (Tam Bölüm)\n"
   ]
  },
  {
   "cell_type": "code",
   "execution_count": 14,
   "id": "d658ec73",
   "metadata": {},
   "outputs": [
    {
     "data": {
      "text/plain": [
       "2"
      ]
     },
     "execution_count": 14,
     "metadata": {},
     "output_type": "execute_result"
    }
   ],
   "source": [
    "5 // 2"
   ]
  },
  {
   "cell_type": "code",
   "execution_count": 17,
   "id": "7aa4e1a8",
   "metadata": {},
   "outputs": [
    {
     "data": {
      "text/plain": [
       "2.0"
      ]
     },
     "execution_count": 17,
     "metadata": {},
     "output_type": "execute_result"
    }
   ],
   "source": [
    "# eğer ifadelerden biri bile flaot ise sonuç float çıkar.\n",
    "5 // 2.0"
   ]
  },
  {
   "cell_type": "markdown",
   "id": "37b50d32",
   "metadata": {},
   "source": [
    "### $ Modulo Operator (Mod Alma)"
   ]
  },
  {
   "cell_type": "code",
   "execution_count": 18,
   "id": "a107340d",
   "metadata": {},
   "outputs": [
    {
     "data": {
      "text/plain": [
       "1"
      ]
     },
     "execution_count": 18,
     "metadata": {},
     "output_type": "execute_result"
    }
   ],
   "source": [
    "5 % 2 "
   ]
  },
  {
   "cell_type": "code",
   "execution_count": 20,
   "id": "0ef22192",
   "metadata": {},
   "outputs": [
    {
     "data": {
      "text/plain": [
       "1.0"
      ]
     },
     "execution_count": 20,
     "metadata": {},
     "output_type": "execute_result"
    }
   ],
   "source": [
    "# eğer ifadelerden biri bile float ise sonuç float çıkar.\n",
    "5 % 2.0"
   ]
  },
  {
   "cell_type": "markdown",
   "id": "c3c0544c",
   "metadata": {},
   "source": [
    "### ** Exponentiation Operator (Üs Alma)"
   ]
  },
  {
   "cell_type": "code",
   "execution_count": 21,
   "id": "ca77c16d",
   "metadata": {},
   "outputs": [
    {
     "data": {
      "text/plain": [
       "25"
      ]
     },
     "execution_count": 21,
     "metadata": {},
     "output_type": "execute_result"
    }
   ],
   "source": [
    "5 ** 2"
   ]
  },
  {
   "cell_type": "code",
   "execution_count": 24,
   "id": "e01ad27a",
   "metadata": {},
   "outputs": [
    {
     "data": {
      "text/plain": [
       "27.040000000000003"
      ]
     },
     "execution_count": 24,
     "metadata": {},
     "output_type": "execute_result"
    }
   ],
   "source": [
    "# eğer ifadelerden biri bile flaot ise sonuç float çıkar.\n",
    "5.2 ** 2"
   ]
  },
  {
   "cell_type": "code",
   "execution_count": 23,
   "id": "12b2c0e3",
   "metadata": {},
   "outputs": [
    {
     "data": {
      "text/plain": [
       "float"
      ]
     },
     "execution_count": 23,
     "metadata": {},
     "output_type": "execute_result"
    }
   ],
   "source": [
    "type (5.2 ** 2)"
   ]
  },
  {
   "cell_type": "code",
   "execution_count": 26,
   "id": "142c92d4",
   "metadata": {},
   "outputs": [
    {
     "data": {
      "text/plain": [
       "0.2"
      ]
     },
     "execution_count": 26,
     "metadata": {},
     "output_type": "execute_result"
    }
   ],
   "source": [
    "# eğer ifadelerde - ifadesi var ise sonuç float çıkar.\n",
    "5 ** -1"
   ]
  },
  {
   "cell_type": "code",
   "execution_count": 27,
   "id": "795c1735",
   "metadata": {},
   "outputs": [
    {
     "data": {
      "text/plain": [
       "float"
      ]
     },
     "execution_count": 27,
     "metadata": {},
     "output_type": "execute_result"
    }
   ],
   "source": [
    "type(5**-1)"
   ]
  },
  {
   "cell_type": "markdown",
   "id": "79d54714",
   "metadata": {},
   "source": [
    "**print() Fonksiyonu**\n",
    "- Ekrana çıktı vermek için default bir fonksiyondur. "
   ]
  },
  {
   "cell_type": "code",
   "execution_count": 28,
   "id": "2ac7933d",
   "metadata": {},
   "outputs": [
    {
     "name": "stdout",
     "output_type": "stream",
     "text": [
      "5.0\n"
     ]
    }
   ],
   "source": [
    "print(5+2*7/2**2%3//2)"
   ]
  },
  {
   "cell_type": "markdown",
   "id": "3c872081",
   "metadata": {},
   "source": [
    "## Strings"
   ]
  },
  {
   "cell_type": "markdown",
   "id": "ba7b2c13",
   "metadata": {},
   "source": [
    "- Elemanları karakterlerden oluşan bir dizidir.\n",
    "- **Karakterler** (abcd..) gibi harfler, (\",?=<>/..) semboller (12345) gibi yazı biçiminde sayılar ve boşluk(space) gibi özel ifadelerde karakterledir.\n",
    "- String ifadeler karakterlerden ya da bunların kombinasyonlarından oluşabilir.\n",
    "- String ifadeler **\" \"** çift tırnak içerisine ya da tek tırnak  **' '** içerisine yazılabilir.\n",
    "- String ifadeler daha alt parçalara bölünebilen ve elemanlar içeren yapılar olduğu için Non-scalar objelerdir.\n",
    "- String ifadeler immutable veri tipidir.\n",
    "- **Immutable: Elemanların değeri değiştirilemez**"
   ]
  },
  {
   "cell_type": "code",
   "execution_count": 29,
   "id": "089f51d6",
   "metadata": {},
   "outputs": [
    {
     "data": {
      "text/plain": [
       "'Hello World'"
      ]
     },
     "execution_count": 29,
     "metadata": {},
     "output_type": "execute_result"
    }
   ],
   "source": [
    "\"Hello World\""
   ]
  },
  {
   "cell_type": "code",
   "execution_count": 30,
   "id": "6437e04e",
   "metadata": {},
   "outputs": [
    {
     "data": {
      "text/plain": [
       "str"
      ]
     },
     "execution_count": 30,
     "metadata": {},
     "output_type": "execute_result"
    }
   ],
   "source": [
    "type(\"Hello World!\")"
   ]
  },
  {
   "cell_type": "code",
   "execution_count": 31,
   "id": "d52b6f88",
   "metadata": {},
   "outputs": [
    {
     "data": {
      "text/plain": [
       "str"
      ]
     },
     "execution_count": 31,
     "metadata": {},
     "output_type": "execute_result"
    }
   ],
   "source": [
    "type(\"5 + 2 = 7\")"
   ]
  },
  {
   "cell_type": "code",
   "execution_count": 34,
   "id": "cf6bb92c",
   "metadata": {},
   "outputs": [
    {
     "ename": "SyntaxError",
     "evalue": "invalid syntax (1491585352.py, line 2)",
     "output_type": "error",
     "traceback": [
      "\u001b[1;36m  File \u001b[1;32m\"C:\\Users\\malid\\AppData\\Local\\Temp\\ipykernel_7664\\1491585352.py\"\u001b[1;36m, line \u001b[1;32m2\u001b[0m\n\u001b[1;33m    'Bugün Kadıköy'e gidiyorum'\u001b[0m\n\u001b[1;37m                   ^\u001b[0m\n\u001b[1;31mSyntaxError\u001b[0m\u001b[1;31m:\u001b[0m invalid syntax\n"
     ]
    }
   ],
   "source": [
    "# Str ifade içerisinde tek tırnak kullanmak gerekiyorsa ifadeye çift tırnak arasına yazınız\n",
    "'Bugün Kadıköy'e gidiyorum'"
   ]
  },
  {
   "cell_type": "code",
   "execution_count": 35,
   "id": "6010b4db",
   "metadata": {},
   "outputs": [
    {
     "data": {
      "text/plain": [
       "\"Bugün Kadıköy'e gidiyorum\""
      ]
     },
     "execution_count": 35,
     "metadata": {},
     "output_type": "execute_result"
    }
   ],
   "source": [
    "\"Bugün Kadıköy'e gidiyorum\""
   ]
  },
  {
   "cell_type": "markdown",
   "id": "a41274a0",
   "metadata": {},
   "source": [
    "### Escape Sequences (Kaçış Sekansları)"
   ]
  },
  {
   "cell_type": "code",
   "execution_count": 37,
   "id": "98e5d9b8",
   "metadata": {},
   "outputs": [
    {
     "data": {
      "text/plain": [
       "'Bana \"Bugün ne yapıyorsun\"dedi'"
      ]
     },
     "execution_count": 37,
     "metadata": {},
     "output_type": "execute_result"
    }
   ],
   "source": [
    "\"Bana \\\"Bugün ne yapıyorsun\\\"dedi\""
   ]
  },
  {
   "cell_type": "code",
   "execution_count": 38,
   "id": "41bbc151",
   "metadata": {},
   "outputs": [
    {
     "data": {
      "text/plain": [
       "\"Bugün Kadıköy'e gidiyorum\""
      ]
     },
     "execution_count": 38,
     "metadata": {},
     "output_type": "execute_result"
    }
   ],
   "source": [
    "'Bugün Kadıköy\\'e gidiyorum'"
   ]
  },
  {
   "cell_type": "code",
   "execution_count": 39,
   "id": "6c35b24a",
   "metadata": {},
   "outputs": [
    {
     "name": "stdout",
     "output_type": "stream",
     "text": [
      "Heyyy\n",
      "Nasılsın?\n"
     ]
    }
   ],
   "source": [
    "print(\"Heyyy\\nNasılsın?\")"
   ]
  },
  {
   "cell_type": "code",
   "execution_count": 40,
   "id": "e2ceff12",
   "metadata": {},
   "outputs": [
    {
     "name": "stdout",
     "output_type": "stream",
     "text": [
      "Heyyy\tNasılsın?\n"
     ]
    }
   ],
   "source": [
    "print(\"Heyyy\\tNasılsın?\")"
   ]
  },
  {
   "cell_type": "code",
   "execution_count": 42,
   "id": "15956897",
   "metadata": {},
   "outputs": [
    {
     "ename": "SyntaxError",
     "evalue": "EOL while scanning string literal (352882408.py, line 2)",
     "output_type": "error",
     "traceback": [
      "\u001b[1;36m  File \u001b[1;32m\"C:\\Users\\malid\\AppData\\Local\\Temp\\ipykernel_7664\\352882408.py\"\u001b[1;36m, line \u001b[1;32m2\u001b[0m\n\u001b[1;33m    print(\"hmm \\\")\u001b[0m\n\u001b[1;37m                  ^\u001b[0m\n\u001b[1;31mSyntaxError\u001b[0m\u001b[1;31m:\u001b[0m EOL while scanning string literal\n"
     ]
    }
   ],
   "source": [
    "# sadece backslash kullanılacaksa da yine backslash eklenmelidir.\n",
    "print(\"hmm \\\")"
   ]
  },
  {
   "cell_type": "code",
   "execution_count": 43,
   "id": "13614e94",
   "metadata": {},
   "outputs": [
    {
     "name": "stdout",
     "output_type": "stream",
     "text": [
      "hmm \\\n"
     ]
    }
   ],
   "source": [
    "print(\"hmm \\\\\")"
   ]
  },
  {
   "cell_type": "markdown",
   "id": "7cf03eca",
   "metadata": {},
   "source": [
    "### Variable Assignment of Strings (String ifadelerde Değer Atama)"
   ]
  },
  {
   "cell_type": "code",
   "execution_count": 44,
   "id": "43006fad",
   "metadata": {},
   "outputs": [],
   "source": [
    "merhaba = \"Merhaba Nasılsın bugün?\""
   ]
  },
  {
   "cell_type": "code",
   "execution_count": 45,
   "id": "da7ddd08",
   "metadata": {},
   "outputs": [
    {
     "name": "stdout",
     "output_type": "stream",
     "text": [
      "Merhaba Nasılsın bugün?\n"
     ]
    }
   ],
   "source": [
    "print(merhaba)"
   ]
  },
  {
   "cell_type": "code",
   "execution_count": 46,
   "id": "f7b165a1",
   "metadata": {},
   "outputs": [
    {
     "data": {
      "text/plain": [
       "\"Bugün Mecidiyeköy'den Mecidiyeköy'\\\\e 40 dakikada gittim.\""
      ]
     },
     "execution_count": 46,
     "metadata": {},
     "output_type": "execute_result"
    }
   ],
   "source": [
    "\"Bugün Mecidiyeköy\\'den Mecidiyeköy'\\e 40 dakikada gittim.\""
   ]
  },
  {
   "cell_type": "markdown",
   "id": "a6f15875",
   "metadata": {},
   "source": [
    "### String Concatenation\n",
    "\n",
    "- **+** operatörü sayısal veriler tipleri üzerine etki edince toplama işlemi yapar. String ifadelerde ise ifadeleri birleştirmeye yarar. Bu işleme de String Concatenation denir."
   ]
  },
  {
   "cell_type": "code",
   "execution_count": 47,
   "id": "58f1c3c7",
   "metadata": {},
   "outputs": [
    {
     "data": {
      "text/plain": [
       "'54'"
      ]
     },
     "execution_count": 47,
     "metadata": {},
     "output_type": "execute_result"
    }
   ],
   "source": [
    "\"5\" + \"4\""
   ]
  },
  {
   "cell_type": "code",
   "execution_count": 49,
   "id": "16086fb4",
   "metadata": {},
   "outputs": [
    {
     "data": {
      "text/plain": [
       "'Yüzoniki'"
      ]
     },
     "execution_count": 49,
     "metadata": {},
     "output_type": "execute_result"
    }
   ],
   "source": [
    "\"Yüz\" + \"oniki\""
   ]
  },
  {
   "cell_type": "code",
   "execution_count": 51,
   "id": "17b7e419",
   "metadata": {},
   "outputs": [
    {
     "name": "stdout",
     "output_type": "stream",
     "text": [
      "Merhaba, Mehmet Ali Değirmenci\n"
     ]
    }
   ],
   "source": [
    "ad = \"Mehmet Ali\"\n",
    "soyAd = \"Değirmenci\"\n",
    "print(\"Merhaba, \"+ ad + \" \" + soyAd)"
   ]
  },
  {
   "cell_type": "markdown",
   "id": "ec7cd7c8",
   "metadata": {},
   "source": [
    "### Successive Concatenation (Ardışık Birleştirme)\n",
    "- \\* operatörü String ifadeler için ard arda birleştirme işlemi yapar."
   ]
  },
  {
   "cell_type": "code",
   "execution_count": 52,
   "id": "e723b9a4",
   "metadata": {},
   "outputs": [
    {
     "data": {
      "text/plain": [
       "'HeyyHeyyHeyyHeyyHeyy'"
      ]
     },
     "execution_count": 52,
     "metadata": {},
     "output_type": "execute_result"
    }
   ],
   "source": [
    "5 * \"Heyy\""
   ]
  },
  {
   "cell_type": "code",
   "execution_count": 53,
   "id": "6df94361",
   "metadata": {},
   "outputs": [
    {
     "data": {
      "text/plain": [
       "'10000000000'"
      ]
     },
     "execution_count": 53,
     "metadata": {},
     "output_type": "execute_result"
    }
   ],
   "source": [
    "\"1\" + \"0\"*10"
   ]
  },
  {
   "cell_type": "markdown",
   "id": "76c667ed",
   "metadata": {},
   "source": [
    "**len() Fonksiyonu**"
   ]
  },
  {
   "cell_type": "markdown",
   "id": "93c7be92",
   "metadata": {},
   "source": [
    "- Bu fonksiyon ile string ifadenin uzunluğunu verir."
   ]
  },
  {
   "cell_type": "code",
   "execution_count": 54,
   "id": "18b85f1a",
   "metadata": {},
   "outputs": [
    {
     "data": {
      "text/plain": [
       "1"
      ]
     },
     "execution_count": 54,
     "metadata": {},
     "output_type": "execute_result"
    }
   ],
   "source": [
    "len(\"A\")"
   ]
  },
  {
   "cell_type": "code",
   "execution_count": 55,
   "id": "c9ea3987",
   "metadata": {},
   "outputs": [
    {
     "data": {
      "text/plain": [
       "21"
      ]
     },
     "execution_count": 55,
     "metadata": {},
     "output_type": "execute_result"
    }
   ],
   "source": [
    "len(\"Mehmet Ali Değirmenci\")"
   ]
  },
  {
   "cell_type": "markdown",
   "id": "2685e702",
   "metadata": {},
   "source": [
    "### Indexing (Elemanlara Erişme)\n",
    "- Non-scalar veri tipinde olan String ifadeler alt elemanlara bölünebilir\n",
    "- Dizi olarak tutulan String ifadelerin elemanlarına erişmeye indexing denir\n",
    "- Diziler 0 indisiyle başlar ve devam eder\n",
    "- String ifadelere dizi indisiyle ulaşılabilir ve [] parantez kullanılır."
   ]
  },
  {
   "cell_type": "code",
   "execution_count": 57,
   "id": "62c1582d",
   "metadata": {},
   "outputs": [
    {
     "data": {
      "text/plain": [
       "'M'"
      ]
     },
     "execution_count": 57,
     "metadata": {},
     "output_type": "execute_result"
    }
   ],
   "source": [
    "isim = \"Mahmut\"\n",
    "isim[0]"
   ]
  },
  {
   "cell_type": "code",
   "execution_count": 58,
   "id": "8213dca7",
   "metadata": {},
   "outputs": [
    {
     "data": {
      "text/plain": [
       "'a'"
      ]
     },
     "execution_count": 58,
     "metadata": {},
     "output_type": "execute_result"
    }
   ],
   "source": [
    "isim[1]"
   ]
  },
  {
   "cell_type": "code",
   "execution_count": 59,
   "id": "1b7eaf21",
   "metadata": {},
   "outputs": [
    {
     "data": {
      "text/plain": [
       "'h'"
      ]
     },
     "execution_count": 59,
     "metadata": {},
     "output_type": "execute_result"
    }
   ],
   "source": [
    "isim[2]"
   ]
  },
  {
   "cell_type": "code",
   "execution_count": 61,
   "id": "76fb9620",
   "metadata": {},
   "outputs": [
    {
     "data": {
      "text/plain": [
       "'M'"
      ]
     },
     "execution_count": 61,
     "metadata": {},
     "output_type": "execute_result"
    }
   ],
   "source": [
    "\"Mahmut\"[0]"
   ]
  },
  {
   "cell_type": "code",
   "execution_count": 62,
   "id": "5b3896a8",
   "metadata": {},
   "outputs": [
    {
     "data": {
      "text/plain": [
       "'t'"
      ]
     },
     "execution_count": 62,
     "metadata": {},
     "output_type": "execute_result"
    }
   ],
   "source": [
    "# son elemana ulaşmak istenildiğinde [-1] ifadesi kullanırız.\n",
    "\"Mahmut\"[-1]"
   ]
  },
  {
   "cell_type": "code",
   "execution_count": 65,
   "id": "16b78e09",
   "metadata": {},
   "outputs": [
    {
     "ename": "IndexError",
     "evalue": "string index out of range",
     "output_type": "error",
     "traceback": [
      "\u001b[1;31m---------------------------------------------------------------------------\u001b[0m",
      "\u001b[1;31mIndexError\u001b[0m                                Traceback (most recent call last)",
      "\u001b[1;32m~\\AppData\\Local\\Temp\\ipykernel_7664\\3713314234.py\u001b[0m in \u001b[0;36m<module>\u001b[1;34m\u001b[0m\n\u001b[0;32m      1\u001b[0m \u001b[1;31m# String ifade dışında indis no verilirse hata alırsın.\u001b[0m\u001b[1;33m\u001b[0m\u001b[1;33m\u001b[0m\u001b[0m\n\u001b[1;32m----> 2\u001b[1;33m \u001b[1;34m\"Mahmut\"\u001b[0m\u001b[1;33m[\u001b[0m\u001b[1;36m7\u001b[0m\u001b[1;33m]\u001b[0m\u001b[1;33m\u001b[0m\u001b[1;33m\u001b[0m\u001b[0m\n\u001b[0m",
      "\u001b[1;31mIndexError\u001b[0m: string index out of range"
     ]
    }
   ],
   "source": [
    "# String ifade dışında indis no verilirse hata alırsın.\n",
    "\"Mahmut\"[7]"
   ]
  },
  {
   "cell_type": "markdown",
   "id": "d433b6ca",
   "metadata": {},
   "source": [
    "- String ifadeler elemanlar değiştirilemez. Immutable ifadelerdir."
   ]
  },
  {
   "cell_type": "code",
   "execution_count": 67,
   "id": "25a31ee7",
   "metadata": {},
   "outputs": [
    {
     "data": {
      "text/plain": [
       "'Ali'"
      ]
     },
     "execution_count": 67,
     "metadata": {},
     "output_type": "execute_result"
    }
   ],
   "source": [
    "isim = \"Ali\"\n",
    "isim"
   ]
  },
  {
   "cell_type": "code",
   "execution_count": 68,
   "id": "239f6dce",
   "metadata": {},
   "outputs": [
    {
     "ename": "TypeError",
     "evalue": "'str' object does not support item assignment",
     "output_type": "error",
     "traceback": [
      "\u001b[1;31m---------------------------------------------------------------------------\u001b[0m",
      "\u001b[1;31mTypeError\u001b[0m                                 Traceback (most recent call last)",
      "\u001b[1;32m~\\AppData\\Local\\Temp\\ipykernel_7664\\888738572.py\u001b[0m in \u001b[0;36m<module>\u001b[1;34m\u001b[0m\n\u001b[1;32m----> 1\u001b[1;33m \u001b[0misim\u001b[0m\u001b[1;33m[\u001b[0m\u001b[1;36m0\u001b[0m\u001b[1;33m]\u001b[0m \u001b[1;33m=\u001b[0m \u001b[1;34m\"V\"\u001b[0m\u001b[1;33m\u001b[0m\u001b[1;33m\u001b[0m\u001b[0m\n\u001b[0m",
      "\u001b[1;31mTypeError\u001b[0m: 'str' object does not support item assignment"
     ]
    }
   ],
   "source": [
    "isim[0] = \"V\""
   ]
  },
  {
   "cell_type": "markdown",
   "id": "932b764c",
   "metadata": {},
   "source": [
    "### Slicing (Dilimleme)"
   ]
  },
  {
   "cell_type": "markdown",
   "id": "bc14487b",
   "metadata": {},
   "source": [
    "- Indexleme ile bir eleman getirilirken Slicing ile bir öbek olarak getirilebilir."
   ]
  },
  {
   "cell_type": "code",
   "execution_count": 70,
   "id": "e4c75473",
   "metadata": {},
   "outputs": [
    {
     "data": {
      "text/plain": [
       "'Mehmet'"
      ]
     },
     "execution_count": 70,
     "metadata": {},
     "output_type": "execute_result"
    }
   ],
   "source": [
    "isim = \"Mehmet\"\n",
    "isim"
   ]
  },
  {
   "cell_type": "code",
   "execution_count": 71,
   "id": "7261d74e",
   "metadata": {},
   "outputs": [
    {
     "data": {
      "text/plain": [
       "'Meh'"
      ]
     },
     "execution_count": 71,
     "metadata": {},
     "output_type": "execute_result"
    }
   ],
   "source": [
    "# Burada önemli olan nokta ile belirtilen indexing dahil edilirken son olarak yazılan dahil edilemez.\n",
    "# 0,1,2 indexlerini döndürür\n",
    "isim[0:3]"
   ]
  },
  {
   "cell_type": "markdown",
   "id": "f7799ad1",
   "metadata": {},
   "source": [
    "- başlangıç:bitiş olarak tanımlanır. bitiş indisi dahil edilmez. Başlangıç belirtilmez ise Python default olarak başlangıcı 0 alır."
   ]
  },
  {
   "cell_type": "code",
   "execution_count": 73,
   "id": "66bbb295",
   "metadata": {},
   "outputs": [
    {
     "data": {
      "text/plain": [
       "'Meh'"
      ]
     },
     "execution_count": 73,
     "metadata": {},
     "output_type": "execute_result"
    }
   ],
   "source": [
    "isim[:3]"
   ]
  },
  {
   "cell_type": "markdown",
   "id": "95800a18",
   "metadata": {},
   "source": [
    "- Bitişi belirtmezseniz Python String'in sonuna kadar alır, bu durumda son eleman da dahil edilir."
   ]
  },
  {
   "cell_type": "code",
   "execution_count": 74,
   "id": "917ee7e4",
   "metadata": {},
   "outputs": [
    {
     "data": {
      "text/plain": [
       "'ehmet'"
      ]
     },
     "execution_count": 74,
     "metadata": {},
     "output_type": "execute_result"
    }
   ],
   "source": [
    "isim[1::]"
   ]
  },
  {
   "cell_type": "markdown",
   "id": "87edc448",
   "metadata": {},
   "source": [
    "- Slicing yapılırken bitiş olarak verilen değer en büyük index değerinden büyükse hata alınmaz. Son index e kadar alınır."
   ]
  },
  {
   "cell_type": "code",
   "execution_count": 75,
   "id": "489eca15",
   "metadata": {},
   "outputs": [
    {
     "data": {
      "text/plain": [
       "'ehmet'"
      ]
     },
     "execution_count": 75,
     "metadata": {},
     "output_type": "execute_result"
    }
   ],
   "source": [
    "isim[1:10]"
   ]
  },
  {
   "cell_type": "markdown",
   "id": "a28b223a",
   "metadata": {},
   "source": [
    "- başlangıç:bitiş:adım şeklinde tanımlayarak slicing işlemini adım sayısı kadar atlayarak yapılır."
   ]
  },
  {
   "cell_type": "code",
   "execution_count": 76,
   "id": "2b534278",
   "metadata": {},
   "outputs": [
    {
     "data": {
      "text/plain": [
       "'Mhe'"
      ]
     },
     "execution_count": 76,
     "metadata": {},
     "output_type": "execute_result"
    }
   ],
   "source": [
    "isim[0:10:2]"
   ]
  },
  {
   "cell_type": "markdown",
   "id": "425d491a",
   "metadata": {},
   "source": [
    "- Adım eksi bir değerde alabilir. Böylece ters yönde slicing işlemi yapılır."
   ]
  },
  {
   "cell_type": "code",
   "execution_count": 77,
   "id": "aa380f28",
   "metadata": {},
   "outputs": [
    {
     "data": {
      "text/plain": [
       "''"
      ]
     },
     "execution_count": 77,
     "metadata": {},
     "output_type": "execute_result"
    }
   ],
   "source": [
    "# 0. indexten 10. indexe 1 azaltarak gidemez o yüzden boş string döndürür\n",
    "isim[0:10:-1]"
   ]
  },
  {
   "cell_type": "code",
   "execution_count": 78,
   "id": "1d255230",
   "metadata": {},
   "outputs": [
    {
     "data": {
      "text/plain": [
       "'temhe'"
      ]
     },
     "execution_count": 78,
     "metadata": {},
     "output_type": "execute_result"
    }
   ],
   "source": [
    "isim[10:0:-1]"
   ]
  },
  {
   "cell_type": "code",
   "execution_count": 79,
   "id": "c68e315b",
   "metadata": {},
   "outputs": [
    {
     "data": {
      "text/plain": [
       "'temheM'"
      ]
     },
     "execution_count": 79,
     "metadata": {},
     "output_type": "execute_result"
    }
   ],
   "source": [
    "isim[10::-1]"
   ]
  },
  {
   "cell_type": "code",
   "execution_count": 81,
   "id": "82b0ed04",
   "metadata": {},
   "outputs": [
    {
     "data": {
      "text/plain": [
       "'temheM'"
      ]
     },
     "execution_count": 81,
     "metadata": {},
     "output_type": "execute_result"
    }
   ],
   "source": [
    "isim[::-1]"
   ]
  },
  {
   "cell_type": "markdown",
   "id": "a156968c",
   "metadata": {},
   "source": [
    "### Casting in Strings (String İfadeyi int ya da float'a Çevirme)"
   ]
  },
  {
   "cell_type": "code",
   "execution_count": 82,
   "id": "55220d6a",
   "metadata": {},
   "outputs": [],
   "source": [
    "a = \"5\""
   ]
  },
  {
   "cell_type": "code",
   "execution_count": 84,
   "id": "7c684d6b",
   "metadata": {},
   "outputs": [
    {
     "data": {
      "text/plain": [
       "5"
      ]
     },
     "execution_count": 84,
     "metadata": {},
     "output_type": "execute_result"
    }
   ],
   "source": [
    "int(a)"
   ]
  },
  {
   "cell_type": "code",
   "execution_count": 83,
   "id": "93f12f88",
   "metadata": {},
   "outputs": [],
   "source": [
    "b = \"5.3\""
   ]
  },
  {
   "cell_type": "code",
   "execution_count": 85,
   "id": "e1ff286a",
   "metadata": {},
   "outputs": [
    {
     "data": {
      "text/plain": [
       "5.3"
      ]
     },
     "execution_count": 85,
     "metadata": {},
     "output_type": "execute_result"
    }
   ],
   "source": [
    "float(b)"
   ]
  },
  {
   "cell_type": "code",
   "execution_count": 86,
   "id": "cbc4bf1a",
   "metadata": {},
   "outputs": [
    {
     "data": {
      "text/plain": [
       "5"
      ]
     },
     "execution_count": 86,
     "metadata": {},
     "output_type": "execute_result"
    }
   ],
   "source": [
    "int(float(b))"
   ]
  },
  {
   "cell_type": "markdown",
   "id": "e1c25358",
   "metadata": {},
   "source": [
    "**Input() fonksiyonu**\n",
    "- Kullanıcıdan veri almak için kullanılan bir fonksiyondur.\n",
    "- input(\"Kullanıcıya gösterilecek mesaj buraya yazılır\")"
   ]
  },
  {
   "cell_type": "code",
   "execution_count": 87,
   "id": "343f50d3",
   "metadata": {},
   "outputs": [
    {
     "name": "stdout",
     "output_type": "stream",
     "text": [
      "Bir sayı girin:5\n"
     ]
    }
   ],
   "source": [
    "x = input(\"Bir sayı girin:\")"
   ]
  },
  {
   "cell_type": "code",
   "execution_count": 89,
   "id": "3fa900cd",
   "metadata": {},
   "outputs": [
    {
     "ename": "TypeError",
     "evalue": "can only concatenate str (not \"int\") to str",
     "output_type": "error",
     "traceback": [
      "\u001b[1;31m---------------------------------------------------------------------------\u001b[0m",
      "\u001b[1;31mTypeError\u001b[0m                                 Traceback (most recent call last)",
      "\u001b[1;32m~\\AppData\\Local\\Temp\\ipykernel_7664\\2906262425.py\u001b[0m in \u001b[0;36m<module>\u001b[1;34m\u001b[0m\n\u001b[0;32m      1\u001b[0m \u001b[1;31m# input() fonksiyonu str ifade döndürür. O yüzden concatenate edilmelidir.\u001b[0m\u001b[1;33m\u001b[0m\u001b[1;33m\u001b[0m\u001b[0m\n\u001b[1;32m----> 2\u001b[1;33m \u001b[0mx\u001b[0m \u001b[1;33m+\u001b[0m \u001b[1;36m10\u001b[0m\u001b[1;33m\u001b[0m\u001b[1;33m\u001b[0m\u001b[0m\n\u001b[0m",
      "\u001b[1;31mTypeError\u001b[0m: can only concatenate str (not \"int\") to str"
     ]
    }
   ],
   "source": [
    "# input() fonksiyonu str ifade döndürür. O yüzden concatenate edilmelidir.\n",
    "x + 10"
   ]
  },
  {
   "cell_type": "code",
   "execution_count": 90,
   "id": "b9c9e421",
   "metadata": {},
   "outputs": [
    {
     "data": {
      "text/plain": [
       "str"
      ]
     },
     "execution_count": 90,
     "metadata": {},
     "output_type": "execute_result"
    }
   ],
   "source": [
    "type(x)"
   ]
  },
  {
   "cell_type": "code",
   "execution_count": 91,
   "id": "98fc95d4",
   "metadata": {},
   "outputs": [
    {
     "data": {
      "text/plain": [
       "15"
      ]
     },
     "execution_count": 91,
     "metadata": {},
     "output_type": "execute_result"
    }
   ],
   "source": [
    "int(x) + 10"
   ]
  },
  {
   "cell_type": "markdown",
   "id": "019b752b",
   "metadata": {},
   "source": [
    "## Comments (Yorumlar)"
   ]
  },
  {
   "cell_type": "markdown",
   "id": "424390b1",
   "metadata": {},
   "source": [
    "- Programın belli bir kısmını ya da mantığını daha sonradan bakıldığında hatırlatma amaçlı ya da başka bir yazılımcının kodları okurken daha kolay anlaması için yorum (**comments**) satırları yazılır. \n",
    "- **\\#** Tek satır yorum yapmak için kullanılır.\n",
    "- **\"\"\" \"\"\"** Birden fazla satırı yorum yapmak için kullanılır."
   ]
  },
  {
   "cell_type": "code",
   "execution_count": 1,
   "id": "cb2440bd",
   "metadata": {},
   "outputs": [],
   "source": [
    "# limonun adet fiyatı tanımlanmıştır.\n",
    "limon = 10"
   ]
  },
  {
   "cell_type": "code",
   "execution_count": 2,
   "id": "59f0736e",
   "metadata": {},
   "outputs": [],
   "source": [
    "\"\"\"\n",
    "    limonun adet fiyatı tanımlanmıştır.\n",
    "    Bir kasa limonun adet fiyatı tanımlanmıştır.\n",
    "\"\"\"\n",
    "limon = 10\n",
    "kasa_limon = 100"
   ]
  },
  {
   "cell_type": "code",
   "execution_count": 3,
   "id": "7bb2332c",
   "metadata": {},
   "outputs": [],
   "source": [
    "fatura = limon * 5 #Limon fiyatı adet ile çarpılarak fatura oluşturulur."
   ]
  },
  {
   "cell_type": "markdown",
   "id": "322f77a4",
   "metadata": {},
   "source": [
    "## Comparison in Numeric Data Types (Numerik Veri Tiplerinde Karşılaştırma)"
   ]
  },
  {
   "cell_type": "markdown",
   "id": "48e37b0b",
   "metadata": {},
   "source": [
    "- Bir programın farklı durumlar olduğunda başka davranışlar göstermesi istenebilir. Bunun için belirli testler yapılması gerekir ve bu testlerin sonucuna göre farklı davranışlar tasarlanır.\n",
    "- Bu testler için verilerinizi birbirleri ile karşılaştırabilir olması gerekir. Bu karşılaştırmalar Comparison Operator yardımıyla yapılır. Cevabın True ya da False olmasına göre farklı durumlarda farklı davranan program tasarlanabilir. Bu karşılaştırmalar programların temelini oluşturur.\n",
    "- Nümerik veri tiplerinde karşılaştırma:\n",
    "- **i == j** eşitlik testi(**equality test**), i ve j birbirlerine **eşitse** bu ifadenin değeri boolean veri objesi True, **eşit değilse** False olacaktır.\n",
    "- **i != j** eşitsizlik testi(**inequality test**), i ve j birbirlerine **eşit değilse** bu ifadenin değeri boolean veri objesi **True**, eşitse **False** değerini verir.\n",
    "- **i > j** i, j'den **büyükse** bu ifadenin değeri boolean veri objesi **True**, **eşit veya az** ise False olacaktır.\n",
    "- **i >= j** i, j'den **büyükse ve eşitse** bu ifadenin değeri boolean veri objesi **True, az** ise False olacaktır.\n",
    "- **i < j** i, j'den **küçükse** bu ifadenin değeri boolean veri objesi **True**, **eşit veya büyük** ise False olacaktır.\n",
    "- **i <= j** i, j'den **küçükse ve eşitse** bu ifadenin değeri boolean veri objesi **True, büyük** ise False olacaktır.\n",
    "-"
   ]
  },
  {
   "cell_type": "markdown",
   "id": "852594f9",
   "metadata": {},
   "source": [
    "**==** Operator"
   ]
  },
  {
   "cell_type": "code",
   "execution_count": 1,
   "id": "2a0899ee",
   "metadata": {},
   "outputs": [
    {
     "data": {
      "text/plain": [
       "False"
      ]
     },
     "execution_count": 1,
     "metadata": {},
     "output_type": "execute_result"
    }
   ],
   "source": [
    "5 == 4"
   ]
  },
  {
   "cell_type": "code",
   "execution_count": 2,
   "id": "903c7937",
   "metadata": {},
   "outputs": [
    {
     "data": {
      "text/plain": [
       "True"
      ]
     },
     "execution_count": 2,
     "metadata": {},
     "output_type": "execute_result"
    }
   ],
   "source": [
    "5 == 5"
   ]
  },
  {
   "cell_type": "code",
   "execution_count": 4,
   "id": "a65228ca",
   "metadata": {},
   "outputs": [],
   "source": [
    "i = 10\n",
    "j = 20"
   ]
  },
  {
   "cell_type": "code",
   "execution_count": 5,
   "id": "76f78253",
   "metadata": {},
   "outputs": [
    {
     "data": {
      "text/plain": [
       "False"
      ]
     },
     "execution_count": 5,
     "metadata": {},
     "output_type": "execute_result"
    }
   ],
   "source": [
    "i == j"
   ]
  },
  {
   "cell_type": "markdown",
   "id": "4df9d1db",
   "metadata": {},
   "source": [
    "- Float veri tipleri için eşitlik karşılaştırması yaparken **==** kullanılması mantıklı değil."
   ]
  },
  {
   "cell_type": "code",
   "execution_count": 6,
   "id": "832f488c",
   "metadata": {},
   "outputs": [
    {
     "data": {
      "text/plain": [
       "True"
      ]
     },
     "execution_count": 6,
     "metadata": {},
     "output_type": "execute_result"
    }
   ],
   "source": [
    "5.4 == 5.4"
   ]
  },
  {
   "cell_type": "code",
   "execution_count": 7,
   "id": "a86c204c",
   "metadata": {},
   "outputs": [],
   "source": [
    "x = (0.3 * 3) + 0.1\n",
    "y = 1.0"
   ]
  },
  {
   "cell_type": "code",
   "execution_count": 8,
   "id": "3a0485e9",
   "metadata": {},
   "outputs": [
    {
     "data": {
      "text/plain": [
       "False"
      ]
     },
     "execution_count": 8,
     "metadata": {},
     "output_type": "execute_result"
    }
   ],
   "source": [
    "x == y"
   ]
  },
  {
   "cell_type": "code",
   "execution_count": 9,
   "id": "b39d2b28",
   "metadata": {},
   "outputs": [
    {
     "data": {
      "text/plain": [
       "0.9999999999999999"
      ]
     },
     "execution_count": 9,
     "metadata": {},
     "output_type": "execute_result"
    }
   ],
   "source": [
    "x"
   ]
  },
  {
   "cell_type": "code",
   "execution_count": 10,
   "id": "59963ae1",
   "metadata": {},
   "outputs": [
    {
     "data": {
      "text/plain": [
       "1.0"
      ]
     },
     "execution_count": 10,
     "metadata": {},
     "output_type": "execute_result"
    }
   ],
   "source": [
    "y"
   ]
  },
  {
   "cell_type": "markdown",
   "id": "d74b00bd",
   "metadata": {},
   "source": [
    "**!=** Operator"
   ]
  },
  {
   "cell_type": "code",
   "execution_count": 11,
   "id": "c90ca908",
   "metadata": {},
   "outputs": [
    {
     "data": {
      "text/plain": [
       "True"
      ]
     },
     "execution_count": 11,
     "metadata": {},
     "output_type": "execute_result"
    }
   ],
   "source": [
    "5 != 4"
   ]
  },
  {
   "cell_type": "code",
   "execution_count": 12,
   "id": "b8c1cd06",
   "metadata": {},
   "outputs": [
    {
     "data": {
      "text/plain": [
       "False"
      ]
     },
     "execution_count": 12,
     "metadata": {},
     "output_type": "execute_result"
    }
   ],
   "source": [
    "5 != 5"
   ]
  },
  {
   "cell_type": "code",
   "execution_count": 13,
   "id": "c5a8f6b6",
   "metadata": {},
   "outputs": [],
   "source": [
    "i = 10\n",
    "j = 10"
   ]
  },
  {
   "cell_type": "code",
   "execution_count": 14,
   "id": "9993b58b",
   "metadata": {},
   "outputs": [
    {
     "data": {
      "text/plain": [
       "False"
      ]
     },
     "execution_count": 14,
     "metadata": {},
     "output_type": "execute_result"
    }
   ],
   "source": [
    "i != j"
   ]
  },
  {
   "cell_type": "markdown",
   "id": "cfd92518",
   "metadata": {},
   "source": [
    "**>** Operator"
   ]
  },
  {
   "cell_type": "code",
   "execution_count": 15,
   "id": "bd1f3dfd",
   "metadata": {},
   "outputs": [
    {
     "data": {
      "text/plain": [
       "True"
      ]
     },
     "execution_count": 15,
     "metadata": {},
     "output_type": "execute_result"
    }
   ],
   "source": [
    "5 > 4"
   ]
  },
  {
   "cell_type": "code",
   "execution_count": 17,
   "id": "b2a89779",
   "metadata": {},
   "outputs": [
    {
     "data": {
      "text/plain": [
       "False"
      ]
     },
     "execution_count": 17,
     "metadata": {},
     "output_type": "execute_result"
    }
   ],
   "source": [
    "4 > 5"
   ]
  },
  {
   "cell_type": "code",
   "execution_count": 20,
   "id": "62bd1141",
   "metadata": {},
   "outputs": [],
   "source": [
    "i = 10\n",
    "j = 10"
   ]
  },
  {
   "cell_type": "code",
   "execution_count": 21,
   "id": "586dcec1",
   "metadata": {},
   "outputs": [
    {
     "data": {
      "text/plain": [
       "False"
      ]
     },
     "execution_count": 21,
     "metadata": {},
     "output_type": "execute_result"
    }
   ],
   "source": [
    "i > j"
   ]
  },
  {
   "cell_type": "markdown",
   "id": "5c2ff706",
   "metadata": {},
   "source": [
    "**>=** Operator"
   ]
  },
  {
   "cell_type": "code",
   "execution_count": 22,
   "id": "b4f4179d",
   "metadata": {},
   "outputs": [
    {
     "data": {
      "text/plain": [
       "True"
      ]
     },
     "execution_count": 22,
     "metadata": {},
     "output_type": "execute_result"
    }
   ],
   "source": [
    "5 >= 4"
   ]
  },
  {
   "cell_type": "code",
   "execution_count": 23,
   "id": "7c1afd8c",
   "metadata": {},
   "outputs": [
    {
     "data": {
      "text/plain": [
       "True"
      ]
     },
     "execution_count": 23,
     "metadata": {},
     "output_type": "execute_result"
    }
   ],
   "source": [
    "5 >= 5"
   ]
  },
  {
   "cell_type": "code",
   "execution_count": 25,
   "id": "3ea7bb82",
   "metadata": {},
   "outputs": [
    {
     "data": {
      "text/plain": [
       "False"
      ]
     },
     "execution_count": 25,
     "metadata": {},
     "output_type": "execute_result"
    }
   ],
   "source": [
    "i = 5\n",
    "j = 6\n",
    "i >= j"
   ]
  },
  {
   "cell_type": "markdown",
   "id": "dd57b403",
   "metadata": {},
   "source": [
    "**<** Operator"
   ]
  },
  {
   "cell_type": "code",
   "execution_count": 26,
   "id": "0b9b570f",
   "metadata": {},
   "outputs": [
    {
     "data": {
      "text/plain": [
       "False"
      ]
     },
     "execution_count": 26,
     "metadata": {},
     "output_type": "execute_result"
    }
   ],
   "source": [
    "5 < 4"
   ]
  },
  {
   "cell_type": "code",
   "execution_count": 27,
   "id": "96389ab9",
   "metadata": {},
   "outputs": [
    {
     "data": {
      "text/plain": [
       "True"
      ]
     },
     "execution_count": 27,
     "metadata": {},
     "output_type": "execute_result"
    }
   ],
   "source": [
    "4 < 5"
   ]
  },
  {
   "cell_type": "code",
   "execution_count": 28,
   "id": "a29c8b70",
   "metadata": {},
   "outputs": [],
   "source": [
    "i = 5\n",
    "j = 5"
   ]
  },
  {
   "cell_type": "code",
   "execution_count": 29,
   "id": "81ff47a2",
   "metadata": {},
   "outputs": [
    {
     "data": {
      "text/plain": [
       "False"
      ]
     },
     "execution_count": 29,
     "metadata": {},
     "output_type": "execute_result"
    }
   ],
   "source": [
    "i < j"
   ]
  },
  {
   "cell_type": "markdown",
   "id": "b8b90a2a",
   "metadata": {},
   "source": [
    "**<=** Operator"
   ]
  },
  {
   "cell_type": "code",
   "execution_count": 30,
   "id": "42bf62bb",
   "metadata": {},
   "outputs": [
    {
     "data": {
      "text/plain": [
       "True"
      ]
     },
     "execution_count": 30,
     "metadata": {},
     "output_type": "execute_result"
    }
   ],
   "source": [
    "5 <= 5"
   ]
  },
  {
   "cell_type": "code",
   "execution_count": 31,
   "id": "ac33c540",
   "metadata": {},
   "outputs": [
    {
     "data": {
      "text/plain": [
       "False"
      ]
     },
     "execution_count": 31,
     "metadata": {},
     "output_type": "execute_result"
    }
   ],
   "source": [
    "5 <= 3"
   ]
  },
  {
   "cell_type": "code",
   "execution_count": 32,
   "id": "10ff608e",
   "metadata": {},
   "outputs": [],
   "source": [
    "i = 5\n",
    "j = 5"
   ]
  },
  {
   "cell_type": "code",
   "execution_count": 33,
   "id": "916c5130",
   "metadata": {},
   "outputs": [
    {
     "data": {
      "text/plain": [
       "True"
      ]
     },
     "execution_count": 33,
     "metadata": {},
     "output_type": "execute_result"
    }
   ],
   "source": [
    "i <= 5"
   ]
  },
  {
   "cell_type": "code",
   "execution_count": 34,
   "id": "3514e4ed",
   "metadata": {},
   "outputs": [
    {
     "data": {
      "text/plain": [
       "True"
      ]
     },
     "execution_count": 34,
     "metadata": {},
     "output_type": "execute_result"
    }
   ],
   "source": [
    "x = int(float(\"3.9\"))\n",
    "y = 3\n",
    "x == y"
   ]
  },
  {
   "cell_type": "markdown",
   "id": "ce0a4e94",
   "metadata": {},
   "source": [
    "### Comparison in String Expressions (String İfadelerde Karşılaştırma)"
   ]
  },
  {
   "cell_type": "code",
   "execution_count": 35,
   "id": "24cf141f",
   "metadata": {},
   "outputs": [
    {
     "data": {
      "text/plain": [
       "False"
      ]
     },
     "execution_count": 35,
     "metadata": {},
     "output_type": "execute_result"
    }
   ],
   "source": [
    "\"Elma\" == \"elma\""
   ]
  },
  {
   "cell_type": "code",
   "execution_count": 36,
   "id": "ef5dd93a",
   "metadata": {},
   "outputs": [
    {
     "data": {
      "text/plain": [
       "True"
      ]
     },
     "execution_count": 36,
     "metadata": {},
     "output_type": "execute_result"
    }
   ],
   "source": [
    "\"elma\" == \"elma\""
   ]
  },
  {
   "cell_type": "code",
   "execution_count": 37,
   "id": "a06a8e78",
   "metadata": {},
   "outputs": [],
   "source": [
    "a = \"elma\"\n",
    "b = \"elma\""
   ]
  },
  {
   "cell_type": "code",
   "execution_count": 38,
   "id": "2909a16c",
   "metadata": {},
   "outputs": [
    {
     "data": {
      "text/plain": [
       "True"
      ]
     },
     "execution_count": 38,
     "metadata": {},
     "output_type": "execute_result"
    }
   ],
   "source": [
    "a == b"
   ]
  },
  {
   "cell_type": "code",
   "execution_count": 45,
   "id": "04046bb0",
   "metadata": {},
   "outputs": [
    {
     "data": {
      "text/plain": [
       "True"
      ]
     },
     "execution_count": 45,
     "metadata": {},
     "output_type": "execute_result"
    }
   ],
   "source": [
    "# harf sıralaması da karşılaştırılabilir.\n",
    "\"a\" < \"b\""
   ]
  },
  {
   "cell_type": "code",
   "execution_count": 46,
   "id": "63f4d5b9",
   "metadata": {},
   "outputs": [
    {
     "data": {
      "text/plain": [
       "True"
      ]
     },
     "execution_count": 46,
     "metadata": {},
     "output_type": "execute_result"
    }
   ],
   "source": [
    "# her iki string ifadede aynı indisler kontrol edilir.\n",
    "\"ab\" < \"b\""
   ]
  },
  {
   "cell_type": "code",
   "execution_count": 41,
   "id": "ecf3f4a6",
   "metadata": {},
   "outputs": [
    {
     "data": {
      "text/plain": [
       "True"
      ]
     },
     "execution_count": 41,
     "metadata": {},
     "output_type": "execute_result"
    }
   ],
   "source": [
    "\"ab\" < \"cdefghi\""
   ]
  },
  {
   "cell_type": "code",
   "execution_count": 47,
   "id": "67d594c0",
   "metadata": {},
   "outputs": [
    {
     "data": {
      "text/plain": [
       "True"
      ]
     },
     "execution_count": 47,
     "metadata": {},
     "output_type": "execute_result"
    }
   ],
   "source": [
    "# eğer karakterler aynı ise sonraki indise geçer ve karşılaştırma yapar\n",
    "\"ab\" < \"ac\""
   ]
  },
  {
   "cell_type": "markdown",
   "id": "18f4add5",
   "metadata": {},
   "source": [
    "## Logical Operators (Mantıksal Operatörler)"
   ]
  },
  {
   "cell_type": "markdown",
   "id": "6ec13002",
   "metadata": {},
   "source": [
    "- Karşılaştırma yapılan veriler üzerinde cevaplar birleştirmek istenebilir. İki ifadenin sonucu da doğru olunca ya da en az biri doğruyken programın davranış sergilemesi istenebilir.\n",
    "- Bunun sağlanabilmesi için boolean veri tipleri üzerine uygulanabilecek mantıksal operatörler vardır.\n",
    "\n",
    "\n"
   ]
  },
  {
   "cell_type": "markdown",
   "id": "c5b34c05",
   "metadata": {},
   "source": [
    "**not** Operator\n",
    "- İfadeyi tersine çevirir."
   ]
  },
  {
   "cell_type": "code",
   "execution_count": 48,
   "id": "c9db39a2",
   "metadata": {},
   "outputs": [
    {
     "data": {
      "text/plain": [
       "False"
      ]
     },
     "execution_count": 48,
     "metadata": {},
     "output_type": "execute_result"
    }
   ],
   "source": [
    "not True"
   ]
  },
  {
   "cell_type": "code",
   "execution_count": 49,
   "id": "dc34864d",
   "metadata": {},
   "outputs": [
    {
     "data": {
      "text/plain": [
       "True"
      ]
     },
     "execution_count": 49,
     "metadata": {},
     "output_type": "execute_result"
    }
   ],
   "source": [
    "not False"
   ]
  },
  {
   "cell_type": "code",
   "execution_count": 50,
   "id": "eea5e704",
   "metadata": {},
   "outputs": [
    {
     "data": {
      "text/plain": [
       "False"
      ]
     },
     "execution_count": 50,
     "metadata": {},
     "output_type": "execute_result"
    }
   ],
   "source": [
    "not 5 < 6"
   ]
  },
  {
   "cell_type": "code",
   "execution_count": 51,
   "id": "122ab73e",
   "metadata": {},
   "outputs": [
    {
     "data": {
      "text/plain": [
       "False"
      ]
     },
     "execution_count": 51,
     "metadata": {},
     "output_type": "execute_result"
    }
   ],
   "source": [
    "not 5 == 5"
   ]
  },
  {
   "cell_type": "code",
   "execution_count": 53,
   "id": "356a710b",
   "metadata": {},
   "outputs": [],
   "source": [
    "a = 4\n",
    "b = 10"
   ]
  },
  {
   "cell_type": "code",
   "execution_count": 54,
   "id": "d2c0e500",
   "metadata": {},
   "outputs": [
    {
     "data": {
      "text/plain": [
       "False"
      ]
     },
     "execution_count": 54,
     "metadata": {},
     "output_type": "execute_result"
    }
   ],
   "source": [
    "not a < b"
   ]
  },
  {
   "cell_type": "code",
   "execution_count": 55,
   "id": "998f8d3b",
   "metadata": {},
   "outputs": [
    {
     "data": {
      "text/plain": [
       "True"
      ]
     },
     "execution_count": 55,
     "metadata": {},
     "output_type": "execute_result"
    }
   ],
   "source": [
    "not a > b"
   ]
  },
  {
   "cell_type": "markdown",
   "id": "b0969aed",
   "metadata": {},
   "source": [
    "**and** Operator\n",
    "- Her iki koşulda sağlandığından True değeri döndürür. Eğer iki ya da ikisinden biri sağlanmıyorsa False değeri döndürür."
   ]
  },
  {
   "cell_type": "code",
   "execution_count": 56,
   "id": "30278310",
   "metadata": {},
   "outputs": [
    {
     "data": {
      "text/plain": [
       "False"
      ]
     },
     "execution_count": 56,
     "metadata": {},
     "output_type": "execute_result"
    }
   ],
   "source": [
    "True and False"
   ]
  },
  {
   "cell_type": "code",
   "execution_count": 57,
   "id": "9ddd82c1",
   "metadata": {},
   "outputs": [
    {
     "data": {
      "text/plain": [
       "True"
      ]
     },
     "execution_count": 57,
     "metadata": {},
     "output_type": "execute_result"
    }
   ],
   "source": [
    "True and True"
   ]
  },
  {
   "cell_type": "code",
   "execution_count": 58,
   "id": "a7ddf761",
   "metadata": {},
   "outputs": [
    {
     "data": {
      "text/plain": [
       "False"
      ]
     },
     "execution_count": 58,
     "metadata": {},
     "output_type": "execute_result"
    }
   ],
   "source": [
    "False and False"
   ]
  },
  {
   "cell_type": "code",
   "execution_count": 62,
   "id": "def06aad",
   "metadata": {},
   "outputs": [
    {
     "data": {
      "text/plain": [
       "True"
      ]
     },
     "execution_count": 62,
     "metadata": {},
     "output_type": "execute_result"
    }
   ],
   "source": [
    "a = 4\n",
    "b = 1\n",
    "c = 10\n",
    "(a > b) and (c > b)"
   ]
  },
  {
   "cell_type": "markdown",
   "id": "933f5d6f",
   "metadata": {},
   "source": [
    "**or** Operator"
   ]
  },
  {
   "cell_type": "markdown",
   "id": "dac4b3b6",
   "metadata": {},
   "source": [
    "- Her iki koşuldan ikisi ya da en az biri sağlandığında True değerini döndürür. İki koşulda sağlanmıyorsa False değerini döndürür"
   ]
  },
  {
   "cell_type": "code",
   "execution_count": 63,
   "id": "97885e14",
   "metadata": {},
   "outputs": [
    {
     "data": {
      "text/plain": [
       "True"
      ]
     },
     "execution_count": 63,
     "metadata": {},
     "output_type": "execute_result"
    }
   ],
   "source": [
    "True or True"
   ]
  },
  {
   "cell_type": "code",
   "execution_count": 64,
   "id": "9ee6cdc9",
   "metadata": {},
   "outputs": [
    {
     "data": {
      "text/plain": [
       "True"
      ]
     },
     "execution_count": 64,
     "metadata": {},
     "output_type": "execute_result"
    }
   ],
   "source": [
    "True or False"
   ]
  },
  {
   "cell_type": "code",
   "execution_count": 65,
   "id": "5c44c6ca",
   "metadata": {},
   "outputs": [
    {
     "data": {
      "text/plain": [
       "False"
      ]
     },
     "execution_count": 65,
     "metadata": {},
     "output_type": "execute_result"
    }
   ],
   "source": [
    "False or False"
   ]
  },
  {
   "cell_type": "code",
   "execution_count": 66,
   "id": "0a842a87",
   "metadata": {},
   "outputs": [],
   "source": [
    "a = 4\n",
    "b = 1\n",
    "c = 10"
   ]
  },
  {
   "cell_type": "code",
   "execution_count": 67,
   "id": "9bdab709",
   "metadata": {},
   "outputs": [
    {
     "data": {
      "text/plain": [
       "True"
      ]
     },
     "execution_count": 67,
     "metadata": {},
     "output_type": "execute_result"
    }
   ],
   "source": [
    "(a > b) or (b < c)"
   ]
  },
  {
   "cell_type": "code",
   "execution_count": 68,
   "id": "6f983371",
   "metadata": {},
   "outputs": [
    {
     "data": {
      "text/plain": [
       "False"
      ]
     },
     "execution_count": 68,
     "metadata": {},
     "output_type": "execute_result"
    }
   ],
   "source": [
    "(a < b) or (b > c)"
   ]
  },
  {
   "cell_type": "markdown",
   "id": "8236c956",
   "metadata": {},
   "source": [
    "## Branching (Dallandırma)"
   ]
  },
  {
   "cell_type": "markdown",
   "id": "b1eba26f",
   "metadata": {},
   "source": [
    "İfadelerin değerlerinin True veya False olduklarını veren karşılaştırma ve mantık operatörleriyle sonuca göre program branching yani dallandırma yapılır. Koşul sağlandığı ya da sağlanmadığı durumlarda program kod bütünün belli bir kısmına yönelir ve orayı çalıştırır."
   ]
  },
  {
   "cell_type": "markdown",
   "id": "83160cf0",
   "metadata": {},
   "source": [
    "### if\n",
    "- Eğer testin değeri True ise if bloğunun içi okunur.\n",
    "- Python da if bloğu kullanılırken girinti (indent) olmalıdır. Bu sayede if koşulu sağlandığında içerisindeki kodları çalıştırır. "
   ]
  },
  {
   "cell_type": "code",
   "execution_count": 74,
   "id": "9d30c075",
   "metadata": {},
   "outputs": [
    {
     "name": "stdout",
     "output_type": "stream",
     "text": [
      "Bir sayı giriniz: 6\n",
      "Sayınız çift sayıdır.\n",
      "Programınız sona ulaştı.\n"
     ]
    }
   ],
   "source": [
    "x = int(input(\"Bir sayı giriniz: \"))\n",
    "\n",
    "if x % 2 == 0:\n",
    "    print(\"Sayınız çift sayıdır.\")\n",
    "print(\"Programınız sona ulaştı.\")"
   ]
  },
  {
   "cell_type": "markdown",
   "id": "e0aa7249",
   "metadata": {},
   "source": [
    "### else\n",
    "- if ile kontrolümüz (veya elif) False sonucu döndürürse else bloğu çalışır."
   ]
  },
  {
   "cell_type": "code",
   "execution_count": 75,
   "id": "e2aed1fe",
   "metadata": {},
   "outputs": [
    {
     "name": "stdout",
     "output_type": "stream",
     "text": [
      "Bir sayı giriniz: 5\n",
      "Sayınız tek sayıdır.\n",
      "Programınız sona ulaştı.\n"
     ]
    }
   ],
   "source": [
    "x = int(input(\"Bir sayı giriniz: \"))\n",
    "\n",
    "if x % 2 == 0:\n",
    "    print(\"Sayınız çift sayıdır.\")\n",
    "else:\n",
    "    print(\"Sayınız tek sayıdır.\")\n",
    "print(\"Programınız sona ulaştı.\")"
   ]
  },
  {
   "cell_type": "markdown",
   "id": "2c2ee540",
   "metadata": {},
   "source": [
    "### elif\n",
    "- elif, if ile yapılan teste ek olarak başka testler yapılmak istendiğinde kullanılır."
   ]
  },
  {
   "cell_type": "code",
   "execution_count": 76,
   "id": "8d8f024a",
   "metadata": {},
   "outputs": [
    {
     "name": "stdout",
     "output_type": "stream",
     "text": [
      "Bir sayı giriniz: 10\n",
      "Sayınız 10'a eşit.\n",
      "Programınız sona ulaştı.\n"
     ]
    }
   ],
   "source": [
    "x = int(input(\"Bir sayı giriniz: \"))\n",
    "\n",
    "if x < 10:\n",
    "    print(\"Sayınız 10'dan küçük.\")\n",
    "elif x == 10:\n",
    "    print(\"Sayınız 10'a eşit.\")\n",
    "else:\n",
    "    print(\"Sayınız 10'dan büyük.\")\n",
    "print(\"Programınız sona ulaştı.\")"
   ]
  },
  {
   "cell_type": "code",
   "execution_count": 79,
   "id": "9b3d2e30",
   "metadata": {},
   "outputs": [
    {
     "name": "stdout",
     "output_type": "stream",
     "text": [
      "0 ile 100 arasında bir sayı giriniz: 92\n",
      "Sayınız 90 ile 100 arasındadır.\n",
      "Programınız sona ulaştı.\n"
     ]
    }
   ],
   "source": [
    "x = int(input(\"0 ile 100 arasında bir sayı giriniz: \"))\n",
    "\n",
    "if x == 100:\n",
    "    print(\"Sayınız 100.\")\n",
    "elif x >= 90:\n",
    "    print(\"Sayınız 90 ile 100 arasındadır.\")\n",
    "elif x >= 80:\n",
    "    print(\"Sayınız 80 ile 90 arasındadır.\")\n",
    "else:\n",
    "    print(\"Sayınız 80'den küçük.\")\n",
    "print(\"Programınız sona ulaştı.\")"
   ]
  },
  {
   "cell_type": "markdown",
   "id": "66ba71c2",
   "metadata": {},
   "source": [
    "### Nested if"
   ]
  },
  {
   "cell_type": "markdown",
   "id": "b1dc8440",
   "metadata": {},
   "source": [
    "- if, elif ve else bloğunun içine başka bir if-elif-else bloğu yazılabilir. Buna Nested if denir."
   ]
  },
  {
   "cell_type": "code",
   "execution_count": 80,
   "id": "f730b6ca",
   "metadata": {},
   "outputs": [
    {
     "name": "stdout",
     "output_type": "stream",
     "text": [
      "Bir sayı giriniz: 6\n",
      "Sayı hem 2'ye hem de 3'e bölünür.\n",
      "Programınız sona ulaştı.\n"
     ]
    }
   ],
   "source": [
    "x = int(input(\"Bir sayı giriniz: \"))\n",
    "\n",
    "if x % 3 == 0:\n",
    "    if x % 2 == 0:\n",
    "        print(\"Sayı hem 2'ye hem de 3'e bölünür.\")\n",
    "    else:\n",
    "        print(\"Sayı 3'e bölünür ama 2'ye tam bölünmez.\")\n",
    "else:\n",
    "    print(\"Sayı 3'e bölünür.\")\n",
    "print(\"Programınız sona ulaştı.\")"
   ]
  },
  {
   "cell_type": "markdown",
   "id": "33e3682b",
   "metadata": {},
   "source": [
    "## Using Logical Operators as a Test (Test olarak Mantıksal Operatörleri Kullanma)"
   ]
  },
  {
   "cell_type": "code",
   "execution_count": 83,
   "id": "608e1bc7",
   "metadata": {},
   "outputs": [
    {
     "name": "stdout",
     "output_type": "stream",
     "text": [
      "Bir sayı giriniz: 6\n",
      "Sayı hem 2'ye hem de 3'e bölünür.\n",
      "Programınız sona ulaştı.\n"
     ]
    }
   ],
   "source": [
    "x = int(input(\"Bir sayı giriniz: \"))\n",
    "\n",
    "if x % 3 == 0 and x % 2 == 0:\n",
    "    print(\"Sayı hem 2'ye hem de 3'e bölünür.\")\n",
    "    \n",
    "print(\"Programınız sona ulaştı.\")"
   ]
  },
  {
   "cell_type": "code",
   "execution_count": 84,
   "id": "77e1c034",
   "metadata": {},
   "outputs": [
    {
     "name": "stdout",
     "output_type": "stream",
     "text": [
      "Bir sayı giriniz: 4\n",
      "Sayı 2'ye veya 3'e bölünür.\n",
      "Programınız sona ulaştı.\n"
     ]
    }
   ],
   "source": [
    "x = int(input(\"Bir sayı giriniz: \"))\n",
    "\n",
    "if x % 3 == 0 or x % 2 == 0:\n",
    "    print(\"Sayı 2'ye veya 3'e bölünür.\")\n",
    "    \n",
    "print(\"Programınız sona ulaştı.\")"
   ]
  },
  {
   "cell_type": "markdown",
   "id": "a8d874ac",
   "metadata": {},
   "source": [
    "### Ternary Conditionals\n",
    "\n",
    "- Ternary Conditionals, if-else mantığını tek satırda kullanmamızı sağlar."
   ]
  },
  {
   "cell_type": "code",
   "execution_count": 86,
   "id": "987f94a1",
   "metadata": {},
   "outputs": [
    {
     "name": "stdout",
     "output_type": "stream",
     "text": [
      "x'in değeri 2 olsun mu? y/n: y\n",
      "2\n"
     ]
    }
   ],
   "source": [
    "# cevap olarak \"y\" (yes) veya \"n\" (no) \n",
    "cevap = input(\"x'in değeri 2 olsun mu? y/n: \")\n",
    "\n",
    "if cevap == \"y\": #cevap, \"y\" eşitse\n",
    "    x = 2\n",
    "else:\n",
    "    x = 0\n",
    "\n",
    "print(x)"
   ]
  },
  {
   "cell_type": "markdown",
   "id": "392e8dd9",
   "metadata": {},
   "source": [
    "Bu durum tek satırda yazılabilir."
   ]
  },
  {
   "cell_type": "code",
   "execution_count": 87,
   "id": "59df9588",
   "metadata": {},
   "outputs": [
    {
     "name": "stdout",
     "output_type": "stream",
     "text": [
      "x'in değeri 2 olsun mu? y/n: y\n"
     ]
    }
   ],
   "source": [
    "cevap = input(\"x'in değeri 2 olsun mu? y/n: \")"
   ]
  },
  {
   "cell_type": "code",
   "execution_count": 88,
   "id": "6ff5191c",
   "metadata": {},
   "outputs": [
    {
     "name": "stdout",
     "output_type": "stream",
     "text": [
      "2\n"
     ]
    }
   ],
   "source": [
    "x = 2 if cevap == \"y\" else 0\n",
    "print(x)"
   ]
  },
  {
   "cell_type": "markdown",
   "id": "cfa8a5e0",
   "metadata": {},
   "source": [
    "Daha düzenli yazılabilir"
   ]
  },
  {
   "cell_type": "code",
   "execution_count": 89,
   "id": "fa4e2986",
   "metadata": {},
   "outputs": [
    {
     "name": "stdout",
     "output_type": "stream",
     "text": [
      "x'in değeri 2 olsun mu? y/n: y\n"
     ]
    }
   ],
   "source": [
    "cevap = input(\"x'in değeri 2 olsun mu? y/n: \")"
   ]
  },
  {
   "cell_type": "code",
   "execution_count": 90,
   "id": "998f33bc",
   "metadata": {},
   "outputs": [],
   "source": [
    "condition = cevap == \"y\""
   ]
  },
  {
   "cell_type": "code",
   "execution_count": 91,
   "id": "59b1c0e6",
   "metadata": {},
   "outputs": [],
   "source": [
    "x = 2 if condition else 0"
   ]
  },
  {
   "cell_type": "code",
   "execution_count": 93,
   "id": "90df5732",
   "metadata": {},
   "outputs": [
    {
     "name": "stdout",
     "output_type": "stream",
     "text": [
      "2\n"
     ]
    }
   ],
   "source": [
    "print(x)"
   ]
  },
  {
   "cell_type": "markdown",
   "id": "764cc487",
   "metadata": {},
   "source": [
    "## Loops (Döngüler)"
   ]
  },
  {
   "cell_type": "markdown",
   "id": "921df2b8",
   "metadata": {},
   "source": [
    "- Bir işlemi birden çok kere yapmak istenildiğinde bu döngülerle yapılır.\n",
    "- Mesela bir siteye girmek için şifrenizi girdiğinizi düşünün. Site siz şifrenizi yanlış girdiğiniz sürece şifrenizi bir daha girin diye belirtir. Burada siz doğru şifreyi girene kadar size tekrar tekrar sorması gerekir. Siz şifrenizi doğru girdiğinizde artık tekrar sorması gerekmez ve döngüden çıkar.\n",
    "- Döngü yapılarında da indent yapısı vardır. Çalıştırılacak kod girinti yapılarak döngü içerisine yazılır."
   ]
  },
  {
   "cell_type": "markdown",
   "id": "d35e6258",
   "metadata": {},
   "source": [
    "### While\n",
    "- **while** döngüsünün içine yazılan yapı belirtilen ifade doğru olduğu sürece çalışır.\n",
    "- while yapısında if bloğu test mantığı vardır. **Test doğru çıktığı sürece while bloğunun içindeki kodlar çalışır.**"
   ]
  },
  {
   "cell_type": "code",
   "execution_count": 94,
   "id": "3d43df9d",
   "metadata": {},
   "outputs": [
    {
     "name": "stdout",
     "output_type": "stream",
     "text": [
      "Bir sayı giriniz: -3\n",
      "Sayı negatif, lütfen pozitif bir sayı giriniz.\n",
      "Bir sayı giriniz: -2\n",
      "Sayı negatif, lütfen pozitif bir sayı giriniz.\n",
      "Bir sayı giriniz: -1\n",
      "Sayı negatif, lütfen pozitif bir sayı giriniz.\n",
      "Bir sayı giriniz: 3\n",
      "Sayınız pozitif: 3\n"
     ]
    }
   ],
   "source": [
    "x = int(input(\"Bir sayı giriniz: \"))\n",
    "while x < 0:\n",
    "    print(\"Sayı negatif, lütfen pozitif bir sayı giriniz.\")\n",
    "    x = int(input(\"Bir sayı giriniz: \"))\n",
    "print(\"Sayınız pozitif:\",x)"
   ]
  },
  {
   "cell_type": "markdown",
   "id": "2cb67341",
   "metadata": {},
   "source": [
    "- 0'dan 100'e kadar olan sayıların toplamını bulan programı while ile yazılabilir."
   ]
  },
  {
   "cell_type": "code",
   "execution_count": 104,
   "id": "9f158495",
   "metadata": {},
   "outputs": [
    {
     "name": "stdout",
     "output_type": "stream",
     "text": [
      "1\n",
      "2\n",
      "3\n",
      "4\n",
      "5\n",
      "6\n",
      "7\n",
      "8\n",
      "9\n",
      "10\n"
     ]
    }
   ],
   "source": [
    "x = 0\n",
    "while x < 10:\n",
    "    x += 1\n",
    "    print(x)"
   ]
  },
  {
   "cell_type": "markdown",
   "id": "c1cce310",
   "metadata": {},
   "source": [
    "### for\n",
    "- for \\<değişken> in \\<obje>\n",
    "- for döngüsü **in** den sonra yazılan yapının bütün değerleri üzerinde dolanıp, eleman sayısı kadar içideki kodu çalıştırır. **x in \\<obje>** yapısı ile tanımlandığında **x** döngünün **her adımında in** den sonra tanımlanan elemanlarını alır."
   ]
  },
  {
   "cell_type": "code",
   "execution_count": 106,
   "id": "1876a19c",
   "metadata": {},
   "outputs": [
    {
     "name": "stdout",
     "output_type": "stream",
     "text": [
      "h\n",
      "e\n",
      "y\n"
     ]
    }
   ],
   "source": [
    "for c in \"hey\":\n",
    "    print(c)"
   ]
  },
  {
   "cell_type": "code",
   "execution_count": 112,
   "id": "1551fec2",
   "metadata": {},
   "outputs": [
    {
     "name": "stdout",
     "output_type": "stream",
     "text": [
      "0\n",
      "1\n",
      "2\n",
      "3\n",
      "4\n",
      "5\n",
      "6\n",
      "7\n",
      "8\n",
      "9\n",
      "Toplam: 45\n"
     ]
    }
   ],
   "source": [
    "toplam = 0\n",
    "for x in range(10):\n",
    "    toplam += x\n",
    "    print(x)\n",
    "print(\"Toplam:\",toplam)"
   ]
  },
  {
   "cell_type": "code",
   "execution_count": 114,
   "id": "370a73ac",
   "metadata": {},
   "outputs": [
    {
     "name": "stdout",
     "output_type": "stream",
     "text": [
      "3125\n"
     ]
    }
   ],
   "source": [
    "# for yapısındaki değişken önemsiz ise _ ile belirtilebilir. Bu şart değil gelenektir. Anlamı değişkenin anlamı olmadığıdır. Sadece iterasyon için kullanılacağı belirtilmiş olur.\n",
    "karesi = 1\n",
    "for _ in range(5):\n",
    "    karesi *= 5\n",
    "\n",
    "print(karesi)"
   ]
  },
  {
   "cell_type": "markdown",
   "id": "2f941ccd",
   "metadata": {},
   "source": [
    "### for vs while\n",
    "- while yapısında kaç kere iterasyon yapılacağı bilinmez. for yapısında eleman sayısı kadar iterasyon vardır. (break veya continue ile bölünmezse)\n",
    "- for döngüsü while döngüsüyle yapılabilir. Lakin while döngüsünü for döngüsüyle yapılamaz. Çünkü for yapısında test mekanizması yoktur. "
   ]
  },
  {
   "cell_type": "code",
   "execution_count": 115,
   "id": "d000bc69",
   "metadata": {},
   "outputs": [],
   "source": [
    "s = \"hey\""
   ]
  },
  {
   "cell_type": "code",
   "execution_count": 116,
   "id": "3799b552",
   "metadata": {},
   "outputs": [
    {
     "name": "stdout",
     "output_type": "stream",
     "text": [
      "h\n",
      "e\n",
      "y\n"
     ]
    }
   ],
   "source": [
    "for c in s:\n",
    "    print(c)"
   ]
  },
  {
   "cell_type": "code",
   "execution_count": 117,
   "id": "f23d7c38",
   "metadata": {},
   "outputs": [
    {
     "name": "stdout",
     "output_type": "stream",
     "text": [
      "h\n",
      "e\n",
      "y\n"
     ]
    }
   ],
   "source": [
    "n = len(s)\n",
    "index = 0\n",
    "while index < n:\n",
    "    print(s[index])\n",
    "    index += 1"
   ]
  },
  {
   "cell_type": "markdown",
   "id": "1421ea0f",
   "metadata": {},
   "source": [
    "### break\n",
    "\n",
    "- Döngü içerisinde belli bir şart sağlandığı zaman döngüden çıkılması gereken durumlarda kullanılır.\n",
    "- break komutu çalıştığında direkt döngüden çıkar."
   ]
  },
  {
   "cell_type": "code",
   "execution_count": 119,
   "id": "c4a30a98",
   "metadata": {},
   "outputs": [
    {
     "name": "stdout",
     "output_type": "stream",
     "text": [
      "0\n",
      "1\n",
      "2\n"
     ]
    }
   ],
   "source": [
    "for i in range(10):\n",
    "    if i == 3:\n",
    "        break\n",
    "    print(i)"
   ]
  },
  {
   "cell_type": "markdown",
   "id": "f3e7e4ae",
   "metadata": {},
   "source": [
    "### continue\n",
    "- Döngülerde bir şart sağlandığında bir sonraki iterasyondan devam etmek istenildiğinde kullanılır. \n",
    "- continue komutu çalıştığında döngünün bir sonraki iterasyonuna geçilir."
   ]
  },
  {
   "cell_type": "code",
   "execution_count": 122,
   "id": "73221165",
   "metadata": {},
   "outputs": [
    {
     "name": "stdout",
     "output_type": "stream",
     "text": [
      "0\n",
      "1\n",
      "2\n",
      "continue\n",
      "4\n",
      "5\n",
      "6\n",
      "7\n",
      "8\n",
      "9\n"
     ]
    }
   ],
   "source": [
    "for i in range(10):\n",
    "    if i == 3:\n",
    "        print(\"continue\")\n",
    "        continue\n",
    "    print(i)"
   ]
  },
  {
   "cell_type": "code",
   "execution_count": 124,
   "id": "4343df42",
   "metadata": {},
   "outputs": [
    {
     "name": "stdout",
     "output_type": "stream",
     "text": [
      "i: 0\n",
      "i: 1\n",
      "i: 2\n"
     ]
    },
    {
     "ename": "KeyboardInterrupt",
     "evalue": "",
     "output_type": "error",
     "traceback": [
      "\u001b[1;31m---------------------------------------------------------------------------\u001b[0m",
      "\u001b[1;31mKeyboardInterrupt\u001b[0m                         Traceback (most recent call last)",
      "\u001b[1;32m~\\AppData\\Local\\Temp\\ipykernel_11004\\3368136177.py\u001b[0m in \u001b[0;36m<module>\u001b[1;34m\u001b[0m\n\u001b[0;32m      1\u001b[0m \u001b[0mi\u001b[0m \u001b[1;33m=\u001b[0m \u001b[1;36m0\u001b[0m\u001b[1;33m\u001b[0m\u001b[1;33m\u001b[0m\u001b[0m\n\u001b[0;32m      2\u001b[0m \u001b[1;32mwhile\u001b[0m \u001b[1;33m(\u001b[0m\u001b[0mi\u001b[0m \u001b[1;33m<\u001b[0m \u001b[1;36m10\u001b[0m\u001b[1;33m)\u001b[0m\u001b[1;33m:\u001b[0m\u001b[1;33m\u001b[0m\u001b[1;33m\u001b[0m\u001b[0m\n\u001b[1;32m----> 3\u001b[1;33m     \u001b[1;32mif\u001b[0m \u001b[1;33m(\u001b[0m\u001b[0mi\u001b[0m \u001b[1;33m==\u001b[0m \u001b[1;36m3\u001b[0m \u001b[1;32mor\u001b[0m \u001b[0mi\u001b[0m \u001b[1;33m==\u001b[0m \u001b[1;36m5\u001b[0m\u001b[1;33m)\u001b[0m\u001b[1;33m:\u001b[0m\u001b[1;33m\u001b[0m\u001b[1;33m\u001b[0m\u001b[0m\n\u001b[0m\u001b[0;32m      4\u001b[0m         \u001b[1;32mcontinue\u001b[0m\u001b[1;33m\u001b[0m\u001b[1;33m\u001b[0m\u001b[0m\n\u001b[0;32m      5\u001b[0m     \u001b[0mprint\u001b[0m\u001b[1;33m(\u001b[0m\u001b[1;34m\"i:\"\u001b[0m\u001b[1;33m,\u001b[0m \u001b[0mi\u001b[0m\u001b[1;33m)\u001b[0m\u001b[1;33m\u001b[0m\u001b[1;33m\u001b[0m\u001b[0m\n",
      "\u001b[1;31mKeyboardInterrupt\u001b[0m: "
     ]
    }
   ],
   "source": [
    "i = 0\n",
    "while (i < 10):\n",
    "    if (i == 3 or i == 5):\n",
    "        continue\n",
    "    print(\"i:\", i)\n",
    "    i = i+1\n",
    "    \n",
    "#Bu durumda sonsuz döngüye girer."
   ]
  },
  {
   "cell_type": "code",
   "execution_count": null,
   "id": "e744ddaa",
   "metadata": {},
   "outputs": [],
   "source": []
  }
 ],
 "metadata": {
  "kernelspec": {
   "display_name": "Python 3 (ipykernel)",
   "language": "python",
   "name": "python3"
  },
  "language_info": {
   "codemirror_mode": {
    "name": "ipython",
    "version": 3
   },
   "file_extension": ".py",
   "mimetype": "text/x-python",
   "name": "python",
   "nbconvert_exporter": "python",
   "pygments_lexer": "ipython3",
   "version": "3.9.13"
  }
 },
 "nbformat": 4,
 "nbformat_minor": 5
}
